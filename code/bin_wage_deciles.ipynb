{
  "cells": [
    {
      "cell_type": "raw",
      "metadata": {},
      "source": [
        "---\n",
        "title: \"Wage deciles by state\"\n",
        "---"
      ],
      "id": "09f2d87b"
    },
    {
      "cell_type": "markdown",
      "metadata": {},
      "source": [
        "```{stata, message=FALSE, execute=FALSE}\n",
        "\n",
        "set more off\n",
        "clear all\n",
        "\n",
        "*Set directories and relative directories \n",
        "global base \"/your_directory\"\n",
        "global code ${base}code/\n",
        "global output ${base}output/\n",
        "\n",
        "\n",
        "*load_epiextracts is an easy way to load a selection of years and variables \n",
        "* of the EPI CPS extracts into memory. First, install the Stata package with\n",
        "*See https://microdata.epi.org/basicuse/ for use information.\n",
        "\n",
        "*net install load_epiextracts, from(\"https://microdata.epi.org/stata\")\n",
        "\n",
        "* load CPS ORG: wage, wbho\n",
        "load_epiextracts, begin(2022m1) end(2022m12) sample(ORG) keep(year month orgwgt age emp selfemp wage statefips)\n",
        "\n",
        "\n",
        "tempfile allthedata\n",
        "save `allthedata'\n",
        "\n",
        "* define sample\n",
        "\n",
        "keep if age>=16\n",
        "keep if emp==1\n",
        "keep if selfemp!=1 & selfemp!=.\n",
        "\n",
        "\n",
        "* Calculate state wage deciles\n",
        "use `allthedata', clear\n",
        "binipolate wage [pw=orgwgt/12], binsize(.50) by(year statefips) collapsefun(gcollapse) p(10 20 30 40 50 60 70 80 90)\n",
        "\n",
        "\n",
        "*Turn statefips labels into strings\n",
        "decode statefips, gen(states)\n",
        "drop statefips\n",
        "\n",
        "*Reshape data wide\n",
        "reshape wide wage_binned, i(year percentile) j(states) string\n",
        "\n",
        "\n",
        "*Export state wage deciles to csv file\n",
        "export delim ${output}wbhao_worker_medwage.csv, replace\n",
        "\n",
        "```"
      ],
      "id": "ce0b3121"
    }
  ],
  "metadata": {
    "kernelspec": {
      "display_name": "Python 3",
      "language": "python",
      "name": "python3"
    }
  },
  "nbformat": 4,
  "nbformat_minor": 5
}